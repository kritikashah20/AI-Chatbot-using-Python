{
 "cells": [
  {
   "cell_type": "code",
   "execution_count": null,
   "metadata": {},
   "outputs": [],
   "source": [
    "# aim : creating a simple AI chatbot based on link(url)"
   ]
  },
  {
   "cell_type": "code",
   "execution_count": 13,
   "metadata": {},
   "outputs": [
    {
     "name": "stderr",
     "output_type": "stream",
     "text": [
      "[nltk_data] Downloading package punkt to C:\\Users\\Kritika\n",
      "[nltk_data]     Shah\\AppData\\Roaming\\nltk_data...\n",
      "[nltk_data]   Package punkt is already up-to-date!\n"
     ]
    }
   ],
   "source": [
    "import warnings\n",
    "warnings.filterwarnings('ignore')\n",
    "from newspaper import Article\n",
    "import random\n",
    "import string\n",
    "import nltk\n",
    "nltk.download('punkt')\n",
    "from sklearn.feature_extraction.text import CountVectorizer    # Convert letters into numerical values\n",
    "from sklearn.metrics.pairwise import cosine_similarity\n",
    "import numpy as np"
   ]
  },
  {
   "cell_type": "code",
   "execution_count": 14,
   "metadata": {},
   "outputs": [],
   "source": [
    "# get Article\n",
    "article=Article('https://www.mayoclinic.org/diseases-conditions/chronic-kidney-disease/symptoms-causes/syc-20354521')\n",
    "article.download()\n",
    "article.parse()\n",
    "article.nlp()\n",
    "corpus = article.text"
   ]
  },
  {
   "cell_type": "code",
   "execution_count": 15,
   "metadata": {},
   "outputs": [
    {
     "name": "stdout",
     "output_type": "stream",
     "text": [
      "Overview\n",
      "\n",
      "Chronic kidney disease, also called chronic kidney failure, describes the gradual loss of kidney function. Your kidneys filter wastes and excess fluids from your blood, which are then excreted in your urine. When chronic kidney disease reaches an advanced stage, dangerous levels of fluid, electrolytes and wastes can build up in your body.\n",
      "\n",
      "In the early stages of chronic kidney disease, you may have few signs or symptoms. Chronic kidney disease may not become apparent until your kidney function is significantly impaired.\n",
      "\n",
      "Treatment for chronic kidney disease focuses on slowing the progression of the kidney damage, usually by controlling the underlying cause. Chronic kidney disease can progress to end-stage kidney failure, which is fatal without artificial filtering (dialysis) or a kidney transplant.\n",
      "\n",
      "Chronic kidney disease care at Mayo Clinic\n",
      "\n",
      "How kidneys work\n",
      "\n",
      "Symptoms\n",
      "\n",
      "Signs and symptoms of chronic kidney disease develop over time if kidney damage progresses slowly. Signs and symptoms of kidney disease may include:\n",
      "\n",
      "Nausea\n",
      "\n",
      "Vomiting\n",
      "\n",
      "Loss of appetite\n",
      "\n",
      "Fatigue and weakness\n",
      "\n",
      "Sleep problems\n",
      "\n",
      "Changes in how much you urinate\n",
      "\n",
      "Decreased mental sharpness\n",
      "\n",
      "Muscle twitches and cramps\n",
      "\n",
      "Swelling of feet and ankles\n",
      "\n",
      "Persistent itching\n",
      "\n",
      "Chest pain, if fluid builds up around the lining of the heart\n",
      "\n",
      "Shortness of breath, if fluid builds up in the lungs\n",
      "\n",
      "High blood pressure (hypertension) that's difficult to control\n",
      "\n",
      "Signs and symptoms of kidney disease are often nonspecific, meaning they can also be caused by other illnesses. Because your kidneys are highly adaptable and able to compensate for lost function, signs and symptoms may not appear until irreversible damage has occurred.\n",
      "\n",
      "When to see a doctor\n",
      "\n",
      "Make an appointment with your doctor if you have any signs or symptoms of kidney disease.\n",
      "\n",
      "If you have a medical condition that increases your risk of kidney disease, your doctor is likely to monitor your blood pressure and kidney function with urine and blood tests during regular office visits. Ask your doctor whether these tests are necessary for you.\n",
      "\n",
      "Causes\n",
      "\n",
      "Normal kidney vs. diseased kidney Open pop-up dialog box Close Normal kidney vs. diseased kidney Normal kidney vs. diseased kidney A normal kidney has about 1 million filtering units. Each unit, called a glomerulus, connects to a tubule, which collects urine. Conditions such as high blood pressure and diabetes take a toll on kidney function by damaging these filtering units and collecting tubules and causing scarring.\n",
      "\n",
      "Polycystic kidney Open pop-up dialog box Close Polycystic kidney Polycystic kidney A healthy kidney (left) eliminates waste from the blood and maintains the body's normal chemical balance. Fluid-filled sacs (right), called cysts, characterize polycystic kidney disease.\n",
      "\n",
      "Chronic kidney disease occurs when a disease or condition impairs kidney function, causing kidney damage to worsen over several months or years.\n",
      "\n",
      "Diseases and conditions that cause chronic kidney disease include:\n",
      "\n",
      "Type 1 or type 2 diabetes\n",
      "\n",
      "High blood pressure\n",
      "\n",
      "Glomerulonephritis (gloe-mer-u-low-nuh-FRY-tis), an inflammation of the kidney's filtering units (glomeruli)\n",
      "\n",
      "Interstitial nephritis (in-tur-STISH-ul nuh-FRY-tis), an inflammation of the kidney's tubules and surrounding structures\n",
      "\n",
      "Polycystic kidney disease\n",
      "\n",
      "Prolonged obstruction of the urinary tract, from conditions such as enlarged prostate, kidney stones and some cancers\n",
      "\n",
      "Vesicoureteral (ves-ih-koe-yoo-REE-tur-ul) reflux, a condition that causes urine to back up into your kidneys\n",
      "\n",
      "Recurrent kidney infection, also called pyelonephritis (pie-uh-low-nuh-FRY-tis)\n",
      "\n",
      "Risk factors\n",
      "\n",
      "Factors that may increase your risk of chronic kidney disease include:\n",
      "\n",
      "Diabetes\n",
      "\n",
      "High blood pressure\n",
      "\n",
      "Heart and blood vessel (cardiovascular) disease\n",
      "\n",
      "Smoking\n",
      "\n",
      "Obesity\n",
      "\n",
      "Being African-American, Native American or Asian-American\n",
      "\n",
      "Family history of kidney disease\n",
      "\n",
      "Abnormal kidney structure\n",
      "\n",
      "Older age\n",
      "\n",
      "Complications\n",
      "\n",
      "Chronic kidney disease can affect almost every part of your body. Potential complications may include:\n",
      "\n",
      "Fluid retention, which could lead to swelling in your arms and legs, high blood pressure, or fluid in your lungs (pulmonary edema)\n",
      "\n",
      "A sudden rise in potassium levels in your blood (hyperkalemia), which could impair your heart's ability to function and may be life-threatening\n",
      "\n",
      "Heart and blood vessel (cardiovascular) disease\n",
      "\n",
      "Weak bones and an increased risk of bone fractures\n",
      "\n",
      "Anemia\n",
      "\n",
      "Decreased sex drive, erectile dysfunction or reduced fertility\n",
      "\n",
      "Damage to your central nervous system, which can cause difficulty concentrating, personality changes or seizures\n",
      "\n",
      "Decreased immune response, which makes you more vulnerable to infection\n",
      "\n",
      "Pericarditis, an inflammation of the saclike membrane that envelops your heart (pericardium)\n",
      "\n",
      "Pregnancy complications that carry risks for the mother and the developing fetus\n",
      "\n",
      "Irreversible damage to your kidneys (end-stage kidney disease), eventually requiring either dialysis or a kidney transplant for survival\n",
      "\n",
      "Prevention\n",
      "\n",
      "To reduce your risk of developing kidney disease:\n"
     ]
    }
   ],
   "source": [
    "print(corpus)"
   ]
  },
  {
   "cell_type": "code",
   "execution_count": 16,
   "metadata": {},
   "outputs": [],
   "source": [
    "#tokenize convert paragraph words into list\n",
    "text = corpus\n",
    "sentence_list = nltk.sent_tokenize(text)"
   ]
  },
  {
   "cell_type": "code",
   "execution_count": 17,
   "metadata": {},
   "outputs": [
    {
     "name": "stdout",
     "output_type": "stream",
     "text": [
      "['Overview\\n\\nChronic kidney disease, also called chronic kidney failure, describes the gradual loss of kidney function.', 'Your kidneys filter wastes and excess fluids from your blood, which are then excreted in your urine.', 'When chronic kidney disease reaches an advanced stage, dangerous levels of fluid, electrolytes and wastes can build up in your body.', 'In the early stages of chronic kidney disease, you may have few signs or symptoms.', 'Chronic kidney disease may not become apparent until your kidney function is significantly impaired.', 'Treatment for chronic kidney disease focuses on slowing the progression of the kidney damage, usually by controlling the underlying cause.', 'Chronic kidney disease can progress to end-stage kidney failure, which is fatal without artificial filtering (dialysis) or a kidney transplant.', 'Chronic kidney disease care at Mayo Clinic\\n\\nHow kidneys work\\n\\nSymptoms\\n\\nSigns and symptoms of chronic kidney disease develop over time if kidney damage progresses slowly.', \"Signs and symptoms of kidney disease may include:\\n\\nNausea\\n\\nVomiting\\n\\nLoss of appetite\\n\\nFatigue and weakness\\n\\nSleep problems\\n\\nChanges in how much you urinate\\n\\nDecreased mental sharpness\\n\\nMuscle twitches and cramps\\n\\nSwelling of feet and ankles\\n\\nPersistent itching\\n\\nChest pain, if fluid builds up around the lining of the heart\\n\\nShortness of breath, if fluid builds up in the lungs\\n\\nHigh blood pressure (hypertension) that's difficult to control\\n\\nSigns and symptoms of kidney disease are often nonspecific, meaning they can also be caused by other illnesses.\", 'Because your kidneys are highly adaptable and able to compensate for lost function, signs and symptoms may not appear until irreversible damage has occurred.', 'When to see a doctor\\n\\nMake an appointment with your doctor if you have any signs or symptoms of kidney disease.', 'If you have a medical condition that increases your risk of kidney disease, your doctor is likely to monitor your blood pressure and kidney function with urine and blood tests during regular office visits.', 'Ask your doctor whether these tests are necessary for you.', 'Causes\\n\\nNormal kidney vs. diseased kidney Open pop-up dialog box Close Normal kidney vs. diseased kidney Normal kidney vs. diseased kidney A normal kidney has about 1 million filtering units.', 'Each unit, called a glomerulus, connects to a tubule, which collects urine.', 'Conditions such as high blood pressure and diabetes take a toll on kidney function by damaging these filtering units and collecting tubules and causing scarring.', \"Polycystic kidney Open pop-up dialog box Close Polycystic kidney Polycystic kidney A healthy kidney (left) eliminates waste from the blood and maintains the body's normal chemical balance.\", 'Fluid-filled sacs (right), called cysts, characterize polycystic kidney disease.', 'Chronic kidney disease occurs when a disease or condition impairs kidney function, causing kidney damage to worsen over several months or years.', \"Diseases and conditions that cause chronic kidney disease include:\\n\\nType 1 or type 2 diabetes\\n\\nHigh blood pressure\\n\\nGlomerulonephritis (gloe-mer-u-low-nuh-FRY-tis), an inflammation of the kidney's filtering units (glomeruli)\\n\\nInterstitial nephritis (in-tur-STISH-ul nuh-FRY-tis), an inflammation of the kidney's tubules and surrounding structures\\n\\nPolycystic kidney disease\\n\\nProlonged obstruction of the urinary tract, from conditions such as enlarged prostate, kidney stones and some cancers\\n\\nVesicoureteral (ves-ih-koe-yoo-REE-tur-ul) reflux, a condition that causes urine to back up into your kidneys\\n\\nRecurrent kidney infection, also called pyelonephritis (pie-uh-low-nuh-FRY-tis)\\n\\nRisk factors\\n\\nFactors that may increase your risk of chronic kidney disease include:\\n\\nDiabetes\\n\\nHigh blood pressure\\n\\nHeart and blood vessel (cardiovascular) disease\\n\\nSmoking\\n\\nObesity\\n\\nBeing African-American, Native American or Asian-American\\n\\nFamily history of kidney disease\\n\\nAbnormal kidney structure\\n\\nOlder age\\n\\nComplications\\n\\nChronic kidney disease can affect almost every part of your body.\", \"Potential complications may include:\\n\\nFluid retention, which could lead to swelling in your arms and legs, high blood pressure, or fluid in your lungs (pulmonary edema)\\n\\nA sudden rise in potassium levels in your blood (hyperkalemia), which could impair your heart's ability to function and may be life-threatening\\n\\nHeart and blood vessel (cardiovascular) disease\\n\\nWeak bones and an increased risk of bone fractures\\n\\nAnemia\\n\\nDecreased sex drive, erectile dysfunction or reduced fertility\\n\\nDamage to your central nervous system, which can cause difficulty concentrating, personality changes or seizures\\n\\nDecreased immune response, which makes you more vulnerable to infection\\n\\nPericarditis, an inflammation of the saclike membrane that envelops your heart (pericardium)\\n\\nPregnancy complications that carry risks for the mother and the developing fetus\\n\\nIrreversible damage to your kidneys (end-stage kidney disease), eventually requiring either dialysis or a kidney transplant for survival\\n\\nPrevention\\n\\nTo reduce your risk of developing kidney disease:\"]\n"
     ]
    }
   ],
   "source": [
    "print(sentence_list)"
   ]
  },
  {
   "cell_type": "code",
   "execution_count": 18,
   "metadata": {},
   "outputs": [],
   "source": [
    "# response to user input\n",
    "def response_greet(text):\n",
    "    text = text.lower()\n",
    "    greeting_msg_bot = ['Hii', 'Hey!', 'Hello']\n",
    "    greeting_msg_user = ['Hii', 'Hey!', 'Hello', 'wassup']\n",
    "    \n",
    "    for word in text.split():\n",
    "        if word in greeting_msg_user:\n",
    "            return random.choice(greeting_msg_bot)"
   ]
  },
  {
   "cell_type": "code",
   "execution_count": 19,
   "metadata": {},
   "outputs": [],
   "source": [
    "# user will  ask any question bot want to reply"
   ]
  },
  {
   "cell_type": "code",
   "execution_count": 20,
   "metadata": {},
   "outputs": [],
   "source": [
    "def index_sort(list_var):\n",
    "    length = len(list_var)\n",
    "    list_index = list(range(0, length))\n",
    "    \n",
    "    x = list_var\n",
    "    for i in range(length):\n",
    "        for j in range(length):\n",
    "            if x[list_index[i]]>x[list_index[j]]:\n",
    "                #swap\n",
    "                temp = list_index[i]\n",
    "                list_index[i] = list_index[j]\n",
    "                list_index[j] = temp\n",
    "    return list_index\n",
    "                "
   ]
  },
  {
   "cell_type": "code",
   "execution_count": 25,
   "metadata": {},
   "outputs": [],
   "source": [
    "def response_bot(user_input):\n",
    "    user_input = user_input.lower()\n",
    "    sentence_list.append(user_input)\n",
    "    response_bot = ''\n",
    "    cv = CountVectorizer().fit_transform(sentence_list)\n",
    "    similarity_score = cosine_similarity(cv[-1], cv)\n",
    "    similarity_score_list = similarity_score.flatten()\n",
    "    index = index_sort(similarity_score_list)\n",
    "    index = index[1:]\n",
    "    response_flag = 0\n",
    "    \n",
    "    j=0\n",
    "    for i in range(len(index)):\n",
    "        if similarity_score_list[index[i]]>0.0:\n",
    "            response_bot = response_bot + ' ' + sentence_list[i]\n",
    "            response_flag = 1\n",
    "            j = j+1\n",
    "            \n",
    "        if j > 2:\n",
    "            break\n",
    "        \n",
    "    if response_flag == 0:\n",
    "        response_bot = response_bot + ' ' + 'I dont understand'\n",
    "    sentence_list.remove(user_input)\n",
    "    return response_bot"
   ]
  },
  {
   "cell_type": "code",
   "execution_count": 26,
   "metadata": {},
   "outputs": [
    {
     "name": "stdout",
     "output_type": "stream",
     "text": [
      "Bot : I am a Bot...!\n",
      "Hey\n",
      "Bot : Overview\n",
      "\n",
      "Chronic kidney disease, also called chronic kidney failure, describes the gradual loss of kidney function. Your kidneys filter wastes and excess fluids from your blood, which are then excreted in your urine.\n",
      "hbhjhk\n",
      "Bot : I dont understand\n",
      "exit\n",
      "Bot : Chat with you later!\n"
     ]
    }
   ],
   "source": [
    "print('Bot : I am a Bot...!')\n",
    "\n",
    "exit_list = ['exit', 'end']\n",
    "\n",
    "while(True):\n",
    "    user_input = input()\n",
    "    if user_input.lower() in exit_list:\n",
    "        print('Bot : Chat with you later!')\n",
    "        break\n",
    "    else:\n",
    "        if response_greet(user_input) != None :\n",
    "            print('Bot :' + response_greet(user_input))\n",
    "        else:\n",
    "            print('Bot :' + response_bot(user_input))\n",
    "            "
   ]
  },
  {
   "cell_type": "code",
   "execution_count": null,
   "metadata": {},
   "outputs": [],
   "source": []
  }
 ],
 "metadata": {
  "kernelspec": {
   "display_name": "Python 3",
   "language": "python",
   "name": "python3"
  },
  "language_info": {
   "codemirror_mode": {
    "name": "ipython",
    "version": 3
   },
   "file_extension": ".py",
   "mimetype": "text/x-python",
   "name": "python",
   "nbconvert_exporter": "python",
   "pygments_lexer": "ipython3",
   "version": "3.7.6"
  }
 },
 "nbformat": 4,
 "nbformat_minor": 4
}
